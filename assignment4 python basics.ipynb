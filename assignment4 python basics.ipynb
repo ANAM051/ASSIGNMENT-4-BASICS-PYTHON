{
 "cells": [
  {
   "cell_type": "code",
   "execution_count": null,
   "id": "8fa9299d",
   "metadata": {},
   "outputs": [],
   "source": [
    "1. What exactly is []?\n",
    "2. In a list of values stored in a variable called spam, how would you assign the value hello as the\n",
    "third value? (Assume [2, 4, 6, 8, 10] are in spam.)\n",
    "Lets pretend the spam includes the list [a, b,c,d] for the next three queries.\n",
    "3. What is the value of spam[int(int(3* 2) / 11)]?\n",
    "4. What is the value of spam[-1]?\n",
    "5. What is the value of spam[:2]?\n",
    "Lets pretend bacon has the list [3.14, cat, 11, cat, True] for the next three questions.\n",
    "6. What is the value of bacon.index(&#39;cat&#39;)? ?\n",
    "7. How does bacon.append(99) change the look of the list value in bacon?\n",
    "8. How does bacon.remove(&#39;cat&#39;) change the look of the list in bacon?\n",
    "9. What are the list concatenation and list replication operators?\n",
    "10. What is difference between the list methods append() and insert()?\n",
    "11. What are the two methods for removing items from a list?\n",
    "12.  Describe how list values and string values are identical.\n",
    "13. What is the difference between tuples and lists?\n",
    "14. How do you type a tuple value that only contains the integer 42?\n",
    "15. How do you get a list value's tuple form? How do you get a tuple value's list form?\n",
    "16. Variables that &quot;contain&quot; list values are not necessarily lists themselves. Instead, what do they\n",
    "contain?\n",
    "17. How do you distinguish between copy.copy() and copy.deepcopy()?"
   ]
  },
  {
   "cell_type": "code",
   "execution_count": null,
   "id": "8119402e",
   "metadata": {},
   "outputs": [],
   "source": [
    "1.it represents the list."
   ]
  },
  {
   "cell_type": "code",
   "execution_count": 5,
   "id": "efb2f5e8",
   "metadata": {},
   "outputs": [
    {
     "data": {
      "text/plain": [
       "[2, 4, 'hello', 6, 8, 10]"
      ]
     },
     "execution_count": 5,
     "metadata": {},
     "output_type": "execute_result"
    }
   ],
   "source": [
    "2.\n",
    "spam=[2, 4, 6, 8, 10]\n",
    "spam.insert(2,\"hello\")\n",
    "spam"
   ]
  },
  {
   "cell_type": "code",
   "execution_count": 7,
   "id": "ba8a8cde",
   "metadata": {},
   "outputs": [
    {
     "data": {
      "text/plain": [
       "6"
      ]
     },
     "execution_count": 7,
     "metadata": {},
     "output_type": "execute_result"
    }
   ],
   "source": [
    "3.\n",
    "spam[int(int('3' * 2) / 11)]"
   ]
  },
  {
   "cell_type": "code",
   "execution_count": 8,
   "id": "73d9a24d",
   "metadata": {},
   "outputs": [
    {
     "data": {
      "text/plain": [
       "10"
      ]
     },
     "execution_count": 8,
     "metadata": {},
     "output_type": "execute_result"
    }
   ],
   "source": [
    "4.\n",
    "spam=[2, 4, 6, 8, 10]\n",
    "spam[-1]"
   ]
  },
  {
   "cell_type": "code",
   "execution_count": 10,
   "id": "5db8ab32",
   "metadata": {},
   "outputs": [
    {
     "data": {
      "text/plain": [
       "[2, 4]"
      ]
     },
     "execution_count": 10,
     "metadata": {},
     "output_type": "execute_result"
    }
   ],
   "source": [
    "5.\n",
    "spam[:2]"
   ]
  },
  {
   "cell_type": "code",
   "execution_count": 14,
   "id": "dafa93ad",
   "metadata": {},
   "outputs": [
    {
     "data": {
      "text/plain": [
       "3"
      ]
     },
     "execution_count": 14,
     "metadata": {},
     "output_type": "execute_result"
    }
   ],
   "source": [
    "6\n",
    "bacon = [3.14,\" cat\", 11, \"cat\", True] \n",
    "bacon.index(\"cat\")"
   ]
  },
  {
   "cell_type": "code",
   "execution_count": 21,
   "id": "61a7846c",
   "metadata": {},
   "outputs": [
    {
     "data": {
      "text/plain": [
       "[3.14, ' cat', 11, 'cat', True, 99, 99, 99, 99, 99]"
      ]
     },
     "execution_count": 21,
     "metadata": {},
     "output_type": "execute_result"
    }
   ],
   "source": [
    "7\n",
    "bacon.append(99)\n",
    "bacon"
   ]
  },
  {
   "cell_type": "code",
   "execution_count": 23,
   "id": "df784563",
   "metadata": {},
   "outputs": [
    {
     "data": {
      "text/plain": [
       "[3.14, ' cat', 11, True, 99, 99, 99, 99, 99]"
      ]
     },
     "execution_count": 23,
     "metadata": {},
     "output_type": "execute_result"
    }
   ],
   "source": [
    "8\n",
    "bacon.remove(\"cat\")\n",
    "bacon"
   ]
  },
  {
   "cell_type": "code",
   "execution_count": null,
   "id": "ac2ca9c5",
   "metadata": {},
   "outputs": [],
   "source": [
    "9\n",
    "operator for list concatenation is + and operator for list replication is * ."
   ]
  },
  {
   "cell_type": "code",
   "execution_count": null,
   "id": "183c59cc",
   "metadata": {},
   "outputs": [],
   "source": [
    "10\n",
    "append () is used to add a value in the list at the end  in the list . insert is used to insert a new value between \n",
    "the two existing values of the list."
   ]
  },
  {
   "cell_type": "code",
   "execution_count": null,
   "id": "0a95a8fc",
   "metadata": {},
   "outputs": [],
   "source": [
    "11\n",
    "remove is used to remove items in a list."
   ]
  },
  {
   "cell_type": "code",
   "execution_count": null,
   "id": "5fa2d8a1",
   "metadata": {},
   "outputs": [],
   "source": [
    "12\n",
    "in python both string and list are sequences. string is a sequence of items within single or double quote and list is a \n",
    "sequence of items ."
   ]
  },
  {
   "cell_type": "code",
   "execution_count": null,
   "id": "39eae17d",
   "metadata": {},
   "outputs": [],
   "source": [
    "13\n",
    "list are mutable i.e, we can change the values in a list after creation of a list\n",
    "tuples are immutable i.e, we can't change the values after creation of a tuple.\n"
   ]
  },
  {
   "cell_type": "code",
   "execution_count": 26,
   "id": "6210112b",
   "metadata": {},
   "outputs": [
    {
     "name": "stdout",
     "output_type": "stream",
     "text": [
      "42\n"
     ]
    }
   ],
   "source": [
    "14\n",
    "tup_num =(42)\n",
    "print(tup_num)"
   ]
  },
  {
   "cell_type": "code",
   "execution_count": 29,
   "id": "02c38d93",
   "metadata": {},
   "outputs": [
    {
     "name": "stdout",
     "output_type": "stream",
     "text": [
      "[2, 3, 4]\n",
      "(2, 3, 4)\n"
     ]
    }
   ],
   "source": [
    "15\n",
    "list_num = [2,3,4]\n",
    "tup_num = (2,3,4)\n",
    "print(list_num)\n",
    "print(tup_num)"
   ]
  },
  {
   "cell_type": "code",
   "execution_count": null,
   "id": "7b9b11d2",
   "metadata": {},
   "outputs": [],
   "source": []
  }
 ],
 "metadata": {
  "kernelspec": {
   "display_name": "Python 3 (ipykernel)",
   "language": "python",
   "name": "python3"
  },
  "language_info": {
   "codemirror_mode": {
    "name": "ipython",
    "version": 3
   },
   "file_extension": ".py",
   "mimetype": "text/x-python",
   "name": "python",
   "nbconvert_exporter": "python",
   "pygments_lexer": "ipython3",
   "version": "3.9.12"
  }
 },
 "nbformat": 4,
 "nbformat_minor": 5
}
